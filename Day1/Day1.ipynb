{
 "cells": [
  {
   "cell_type": "code",
   "execution_count": 1,
   "metadata": {},
   "outputs": [],
   "source": [
    "import numpy as np"
   ]
  },
  {
   "cell_type": "code",
   "execution_count": 2,
   "metadata": {},
   "outputs": [],
   "source": [
    "filename='input.txt'"
   ]
  },
  {
   "cell_type": "markdown",
   "metadata": {},
   "source": [
    "---"
   ]
  },
  {
   "cell_type": "code",
   "execution_count": 4,
   "metadata": {},
   "outputs": [],
   "source": [
    "# Open data and convert to a numpy array\n",
    "\n",
    "with open(filename) as f:\n",
    "    lines = f.read().splitlines()"
   ]
  },
  {
   "cell_type": "code",
   "execution_count": 5,
   "metadata": {},
   "outputs": [],
   "source": [
    "module_mass = np.array(list(map(int, lines)))"
   ]
  },
  {
   "cell_type": "markdown",
   "metadata": {},
   "source": [
    "--- Part 1 ---"
   ]
  },
  {
   "cell_type": "code",
   "execution_count": 6,
   "metadata": {},
   "outputs": [],
   "source": [
    "def fuel(mod_mass):\n",
    "    \"\"\"\n",
    "    Calculating the mass of the fuel required to launch a module of a given mass.\n",
    "    This is under the assumption that the fuel itself has no mass.\n",
    "    \n",
    "    \"\"\"\n",
    "    fuel = (mod_mass//3)-2\n",
    "    fuel[fuel < 0] = 0\n",
    "    return fuel"
   ]
  },
  {
   "cell_type": "code",
   "execution_count": 7,
   "metadata": {},
   "outputs": [
    {
     "name": "stdout",
     "output_type": "stream",
     "text": [
      "answer to part 1: 3184233\n"
     ]
    }
   ],
   "source": [
    "print('answer to part 1:', np.int(sum(fuel(module_mass))))#fuel(module_mass))"
   ]
  },
  {
   "cell_type": "markdown",
   "metadata": {},
   "source": [
    "--- Part 2 ---"
   ]
  },
  {
   "cell_type": "code",
   "execution_count": 8,
   "metadata": {},
   "outputs": [],
   "source": [
    "# a numpy array like the module masses to tally the total mass needed for each module\n",
    "module_fuel = np.zeros_like(module_mass) "
   ]
  },
  {
   "cell_type": "code",
   "execution_count": 9,
   "metadata": {},
   "outputs": [
    {
     "name": "stdout",
     "output_type": "stream",
     "text": [
      "answer to part 2: 4773483\n"
     ]
    }
   ],
   "source": [
    "while module_mass.all() > 0:\n",
    "    module_mass = fuel(module_mass)\n",
    "    module_fuel = module_fuel + (module_mass) \n",
    "    # module_fuel is a np.array containing the fuel required to launch each mass\n",
    "    \n",
    "print('answer to part 2:', sum(module_fuel))"
   ]
  }
 ],
 "metadata": {
  "kernelspec": {
   "display_name": "Python 3",
   "language": "python",
   "name": "python3"
  },
  "language_info": {
   "codemirror_mode": {
    "name": "ipython",
    "version": 3
   },
   "file_extension": ".py",
   "mimetype": "text/x-python",
   "name": "python",
   "nbconvert_exporter": "python",
   "pygments_lexer": "ipython3",
   "version": "3.8.0"
  }
 },
 "nbformat": 4,
 "nbformat_minor": 2
}
